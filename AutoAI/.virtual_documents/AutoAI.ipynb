using Pkg


Pkg.activate(".")


using AutoAI
using Statistics
using Random
using DataFrames: DataFrame
using Plots
using CSV


using Distributed
nprocs()==1 && addprocs(exeflags=["--project=$(Base.active_project())"])
@everywhere using AutoAI


function ad1(df)
  dfres = DataFrame()
  for learner in keys(AutoAI.CaretAnomalyDetectors.caretadlearner_dict)
    model = CaretAnomalyDetector(learner)
    res = fit_transform!(model, df)
    mname = string(learner)
    dfres = hcat(dfres, DataFrame(mname => res; makeunique=true))
  end
  return dfres
end


function ad2(df)
  clf1 = SKAnomalyDetector("IsolationForest")
  clf2 = SKAnomalyDetector("EllipticEnvelope")
  clf3 = SKAnomalyDetector("OneClassSVM")
  clf4 = SKAnomalyDetector("LocalOutlierFactor")
  res1 = fit_transform!(clf1, df)
  res2 = fit_transform!(clf2, df)
  res3 = fit_transform!(clf3, df)
  res4 = fit_transform!(clf4, df)
  return DataFrame(iso=res1, eli=res2, osvm=res3, lcl=res4)
end



df1 = vcat(5*cos.(-10:10),sin.(-30:30),3*cos.(-10:10),2*tan.(-10:10),sin.(-30:30)) |> x -> DataFrame([x], :auto);
plot(df1.x1)





function combine(df)
    a=hcat(ad1(df),ad2(df))
    hcat(a,mean.(eachrow(a)))
end


ydf1=combine(df1)





ndx=findall(x->x>=0.1,ydf1.x1)
Plots.plot(df1.x1)
scatter!(ndx,df1.x1[ndx])





Random.seed!(10)
df2 = sin.(-30:30) |> x -> DataFrame([x], :auto)
bmodel = CaretTSPredictor("auto", Dict(:verbose => true,:forecast_horizon=>10))
bestres = fit_transform!(bmodel, df2)


x=-30:30
y=sin.(x)
ll=length(y)
plot(x,y)
plot!(31:31+length(bestres)-1,bestres)








df3 = CSV.File("./test/iris.csv") |> DataFrame
first(df3,5)





X = df3[:, 1:end-1]
Y = df3[:, end] |> collect
autoclass = AutoClassification()
Yhat = fit_transform!(autoclass, X, Y);





autoclass.model[:bestpipeline].model[:description]





autoclass.model[:bestpipeline]





X = df3[:, [1, 2, 3, 5]]
Y = df3[:, 4] |> collect
autoreg = AutoRegression()
Yhat = fit_transform!(autoreg, X, Y);





autoreg.model[:bestpipeline].model[:description]





autoreg.model[:bestpipeline]
